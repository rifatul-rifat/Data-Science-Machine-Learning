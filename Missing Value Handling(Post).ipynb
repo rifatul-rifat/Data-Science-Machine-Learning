{
 "cells": [
  {
   "cell_type": "markdown",
   "metadata": {},
   "source": [
    "<center><h1>Missing Value Handling with Python</h1></center>\n",
    "<br>\n",
    "<img src=\"img/missing_head.jpg\" alt=\"drawing\" height=\"100\" width=\"600\">"
   ]
  },
  {
   "cell_type": "markdown",
   "metadata": {},
   "source": [
    "About 80 percent of a data scientist's valuable time is spent for finding, cleaning, and organizing data while only about 20 percent of time is spent for further analysis. And, it is a crucial task to perform the data cleaning more accurately for perfect analysis and perfect modeling of the data. In real world data, there are some instances where a particular element is absent because of various reasons, such as, corrupt data, failure to load the information, or incomplete extraction. That's why one of the most greatest challanges faced by analyst during data cleaning is handling the missing values as there exist no particular solution for this problem. In this post, we will try to carry out some techniques to deal with the missing data depending upon the occurances so as to we can be able to clean the data more quickly."
   ]
  },
  {
   "cell_type": "markdown",
   "metadata": {},
   "source": [
    "## Types of missing data\n",
    "\n",
    "Before jumping to deal with the missing data, we must need to gather knowledge about the nature of the missing data. Data can be missing in the following ways:"
   ]
  },
  {
   "cell_type": "markdown",
   "metadata": {},
   "source": [
    "<img src=\"img/types_of_missing_data.png\" alt=\"Types of Missing Data\" width=\"600\">"
   ]
  },
  {
   "cell_type": "markdown",
   "metadata": {},
   "source": [
    "* **Missing Completely At Random (MCAR):**\n",
    "Values in a data set are considered as missing completely at random if missing values are randomly distributed across all observations. In MCAR, a data point to be missing is independent both of observable variables and of unobservable parameters of interest.That means the missing data has no relation with its hypothetical value and with the values of other variables.\n",
    "\n",
    "\n",
    "* **Missing At Random (MAR):**\n",
    "The basic difference between MCAR and MAR is that under MAR the data is not missing randomly across all observations but is missing randomly only within sub-samples of data. In MAR, the propensity for a data point to be missing is not related to the missing data, but it is related to some of the observed data.\n",
    "\n",
    "\n",
    "* **Missing Not At Random (MNAR):**\n",
    "In MNAR, the value of the variable that's missing is related to the reason it's missing. There could be two possible reasons that are missing value depends on the hypothetical value (e.g. In a class, students with low CGPA generally do not want to reveal their CGPA) or missing value dependents on some other variable’s value (e.g. Let’s assume that female student generally don’t want to reveal their ages! Here the missing value in the age variable is influenced by gender variable).\n",
    "\n",
    "\n",
    "> *In the first two cases (MCAR & MAR), it is safe to remove the data with missing values depending upon their occurrences, while in the third case (MNAR) removing observations with missing values can produce a bias in the model. Thus, MNAR is also known as nonignorable nonresponse.*\n"
   ]
  },
  {
   "cell_type": "markdown",
   "metadata": {},
   "source": [
    "## Dealing with missing data\n",
    "\n",
    "We’re going to work with the following dataset which is much smaller than what you will typically work with. \n",
    "\n",
    "|__Flat_No__|__Num. of Bed Room__|__Num. of family member__|__Owner's Profession__|\n",
    "|-----------|----------------|-----------------------|--------------------------|\n",
    "|        101|               1|                      4|              Doctor|\n",
    "|        102|               2|                   null|         Businessman|\n",
    "|        103|   not available|                      3|             Teacher|\n",
    "|        104|               2|                      5|         Businessman|\n",
    "|        105|               3|                      4|            Engineer|\n",
    "|        106|             NaN|                      2|              Doctor|\n",
    "|        107|             N/A|                      6|         Businessman|\n",
    "|        108|               1|                      3|         Businessman|\n",
    "|        109|               2|                   -   |            Engineer|\n",
    "|        110|               1|                      2|            Engineer|\n",
    "|        111|              NA|                      4|         Businessman|\n",
    "|        112|               3|                   None|         Businessman|\n",
    "|        113|              na|                      2|             Teacher|\n",
    "|        114|               1|                      3|              Doctor|\n",
    "|        115|               2|                missing|            Engineer|\n",
    "\n",
    "Even though it’s a small dataset, it highlights a lot of real-world situations that we will encounter. Now, we will load the dataset into a pandas dataframe by run the following python code."
   ]
  },
  {
   "cell_type": "code",
   "execution_count": 112,
   "metadata": {},
   "outputs": [],
   "source": [
    "#import libraries\n",
    "import numpy as np\n",
    "import pandas as pd\n",
    "\n",
    "#read csv file into a pandas dataframe\n",
    "df = pd.read_csv('data_with_missingValue.csv', encoding='UTF-8')"
   ]
  },
  {
   "cell_type": "markdown",
   "metadata": {},
   "source": [
    "After loading the data we can use ```.isnull()``` method to find out the missing data."
   ]
  },
  {
   "cell_type": "code",
   "execution_count": 113,
   "metadata": {},
   "outputs": [
    {
     "data": {
      "text/html": [
       "<div>\n",
       "<style scoped>\n",
       "    .dataframe tbody tr th:only-of-type {\n",
       "        vertical-align: middle;\n",
       "    }\n",
       "\n",
       "    .dataframe tbody tr th {\n",
       "        vertical-align: top;\n",
       "    }\n",
       "\n",
       "    .dataframe thead th {\n",
       "        text-align: right;\n",
       "    }\n",
       "</style>\n",
       "<table border=\"1\" class=\"dataframe\">\n",
       "  <thead>\n",
       "    <tr style=\"text-align: right;\">\n",
       "      <th></th>\n",
       "      <th>Flat_No</th>\n",
       "      <th>Num. of Bed Room</th>\n",
       "      <th>Num. of family member</th>\n",
       "      <th>Owner's Profession</th>\n",
       "    </tr>\n",
       "  </thead>\n",
       "  <tbody>\n",
       "    <tr>\n",
       "      <th>0</th>\n",
       "      <td>False</td>\n",
       "      <td>False</td>\n",
       "      <td>False</td>\n",
       "      <td>False</td>\n",
       "    </tr>\n",
       "    <tr>\n",
       "      <th>1</th>\n",
       "      <td>False</td>\n",
       "      <td>False</td>\n",
       "      <td>True</td>\n",
       "      <td>False</td>\n",
       "    </tr>\n",
       "    <tr>\n",
       "      <th>2</th>\n",
       "      <td>False</td>\n",
       "      <td>False</td>\n",
       "      <td>False</td>\n",
       "      <td>False</td>\n",
       "    </tr>\n",
       "    <tr>\n",
       "      <th>3</th>\n",
       "      <td>False</td>\n",
       "      <td>False</td>\n",
       "      <td>False</td>\n",
       "      <td>False</td>\n",
       "    </tr>\n",
       "    <tr>\n",
       "      <th>4</th>\n",
       "      <td>False</td>\n",
       "      <td>False</td>\n",
       "      <td>False</td>\n",
       "      <td>False</td>\n",
       "    </tr>\n",
       "    <tr>\n",
       "      <th>5</th>\n",
       "      <td>False</td>\n",
       "      <td>True</td>\n",
       "      <td>False</td>\n",
       "      <td>False</td>\n",
       "    </tr>\n",
       "    <tr>\n",
       "      <th>6</th>\n",
       "      <td>False</td>\n",
       "      <td>True</td>\n",
       "      <td>False</td>\n",
       "      <td>False</td>\n",
       "    </tr>\n",
       "    <tr>\n",
       "      <th>7</th>\n",
       "      <td>False</td>\n",
       "      <td>False</td>\n",
       "      <td>False</td>\n",
       "      <td>False</td>\n",
       "    </tr>\n",
       "    <tr>\n",
       "      <th>8</th>\n",
       "      <td>False</td>\n",
       "      <td>False</td>\n",
       "      <td>False</td>\n",
       "      <td>False</td>\n",
       "    </tr>\n",
       "    <tr>\n",
       "      <th>9</th>\n",
       "      <td>False</td>\n",
       "      <td>False</td>\n",
       "      <td>False</td>\n",
       "      <td>False</td>\n",
       "    </tr>\n",
       "    <tr>\n",
       "      <th>10</th>\n",
       "      <td>False</td>\n",
       "      <td>True</td>\n",
       "      <td>False</td>\n",
       "      <td>False</td>\n",
       "    </tr>\n",
       "    <tr>\n",
       "      <th>11</th>\n",
       "      <td>False</td>\n",
       "      <td>False</td>\n",
       "      <td>False</td>\n",
       "      <td>False</td>\n",
       "    </tr>\n",
       "    <tr>\n",
       "      <th>12</th>\n",
       "      <td>False</td>\n",
       "      <td>False</td>\n",
       "      <td>False</td>\n",
       "      <td>False</td>\n",
       "    </tr>\n",
       "    <tr>\n",
       "      <th>13</th>\n",
       "      <td>False</td>\n",
       "      <td>False</td>\n",
       "      <td>False</td>\n",
       "      <td>False</td>\n",
       "    </tr>\n",
       "    <tr>\n",
       "      <th>14</th>\n",
       "      <td>False</td>\n",
       "      <td>False</td>\n",
       "      <td>False</td>\n",
       "      <td>False</td>\n",
       "    </tr>\n",
       "  </tbody>\n",
       "</table>\n",
       "</div>"
      ],
      "text/plain": [
       "    Flat_No  Num. of Bed Room  Num. of family member  Owner's Profession\n",
       "0     False             False                  False               False\n",
       "1     False             False                   True               False\n",
       "2     False             False                  False               False\n",
       "3     False             False                  False               False\n",
       "4     False             False                  False               False\n",
       "5     False              True                  False               False\n",
       "6     False              True                  False               False\n",
       "7     False             False                  False               False\n",
       "8     False             False                  False               False\n",
       "9     False             False                  False               False\n",
       "10    False              True                  False               False\n",
       "11    False             False                  False               False\n",
       "12    False             False                  False               False\n",
       "13    False             False                  False               False\n",
       "14    False             False                  False               False"
      ]
     },
     "execution_count": 113,
     "metadata": {},
     "output_type": "execute_result"
    }
   ],
   "source": [
    "df.isnull()"
   ]
  },
  {
   "cell_type": "markdown",
   "metadata": {},
   "source": [
    "Using the ```.isnull()``` method, we have confirmed that \"NaN\", \"N/A\", \"NA\", \"null\", and blank space were recognized as missing values by pandas. Unfortunately, the other types(\"not available\", \"missing\", \"na\", \"None\") weren't recognized as missing values. When multiple users manually entering the data then it is a common problem because one like to use \"NA\" while another like to use \"na\".\n",
    "\n",
    "We can solve this problem by mentioning a list of the different format of missing values in the following way when pandas import the data."
   ]
  },
  {
   "cell_type": "code",
   "execution_count": 114,
   "metadata": {},
   "outputs": [],
   "source": [
    "missing_values = [\"not available\", \"missing\", \"na\", \"None\"]\n",
    "df = pd.read_csv('data_with_missingValue.csv', encoding='UTF-8', na_values= missing_values)"
   ]
  },
  {
   "cell_type": "markdown",
   "metadata": {},
   "source": [
    "Now, let's take another look at the data and see what happens."
   ]
  },
  {
   "cell_type": "code",
   "execution_count": 115,
   "metadata": {},
   "outputs": [
    {
     "data": {
      "text/html": [
       "<div>\n",
       "<style scoped>\n",
       "    .dataframe tbody tr th:only-of-type {\n",
       "        vertical-align: middle;\n",
       "    }\n",
       "\n",
       "    .dataframe tbody tr th {\n",
       "        vertical-align: top;\n",
       "    }\n",
       "\n",
       "    .dataframe thead th {\n",
       "        text-align: right;\n",
       "    }\n",
       "</style>\n",
       "<table border=\"1\" class=\"dataframe\">\n",
       "  <thead>\n",
       "    <tr style=\"text-align: right;\">\n",
       "      <th></th>\n",
       "      <th>Flat_No</th>\n",
       "      <th>Num. of Bed Room</th>\n",
       "      <th>Num. of family member</th>\n",
       "      <th>Owner's Profession</th>\n",
       "    </tr>\n",
       "  </thead>\n",
       "  <tbody>\n",
       "    <tr>\n",
       "      <th>0</th>\n",
       "      <td>False</td>\n",
       "      <td>False</td>\n",
       "      <td>False</td>\n",
       "      <td>False</td>\n",
       "    </tr>\n",
       "    <tr>\n",
       "      <th>1</th>\n",
       "      <td>False</td>\n",
       "      <td>False</td>\n",
       "      <td>True</td>\n",
       "      <td>False</td>\n",
       "    </tr>\n",
       "    <tr>\n",
       "      <th>2</th>\n",
       "      <td>False</td>\n",
       "      <td>True</td>\n",
       "      <td>False</td>\n",
       "      <td>False</td>\n",
       "    </tr>\n",
       "    <tr>\n",
       "      <th>3</th>\n",
       "      <td>False</td>\n",
       "      <td>False</td>\n",
       "      <td>False</td>\n",
       "      <td>False</td>\n",
       "    </tr>\n",
       "    <tr>\n",
       "      <th>4</th>\n",
       "      <td>False</td>\n",
       "      <td>False</td>\n",
       "      <td>False</td>\n",
       "      <td>False</td>\n",
       "    </tr>\n",
       "    <tr>\n",
       "      <th>5</th>\n",
       "      <td>False</td>\n",
       "      <td>True</td>\n",
       "      <td>False</td>\n",
       "      <td>False</td>\n",
       "    </tr>\n",
       "    <tr>\n",
       "      <th>6</th>\n",
       "      <td>False</td>\n",
       "      <td>True</td>\n",
       "      <td>False</td>\n",
       "      <td>False</td>\n",
       "    </tr>\n",
       "    <tr>\n",
       "      <th>7</th>\n",
       "      <td>False</td>\n",
       "      <td>False</td>\n",
       "      <td>False</td>\n",
       "      <td>False</td>\n",
       "    </tr>\n",
       "    <tr>\n",
       "      <th>8</th>\n",
       "      <td>False</td>\n",
       "      <td>False</td>\n",
       "      <td>False</td>\n",
       "      <td>False</td>\n",
       "    </tr>\n",
       "    <tr>\n",
       "      <th>9</th>\n",
       "      <td>False</td>\n",
       "      <td>False</td>\n",
       "      <td>False</td>\n",
       "      <td>False</td>\n",
       "    </tr>\n",
       "    <tr>\n",
       "      <th>10</th>\n",
       "      <td>False</td>\n",
       "      <td>True</td>\n",
       "      <td>False</td>\n",
       "      <td>False</td>\n",
       "    </tr>\n",
       "    <tr>\n",
       "      <th>11</th>\n",
       "      <td>False</td>\n",
       "      <td>False</td>\n",
       "      <td>True</td>\n",
       "      <td>False</td>\n",
       "    </tr>\n",
       "    <tr>\n",
       "      <th>12</th>\n",
       "      <td>False</td>\n",
       "      <td>True</td>\n",
       "      <td>False</td>\n",
       "      <td>False</td>\n",
       "    </tr>\n",
       "    <tr>\n",
       "      <th>13</th>\n",
       "      <td>False</td>\n",
       "      <td>False</td>\n",
       "      <td>False</td>\n",
       "      <td>False</td>\n",
       "    </tr>\n",
       "    <tr>\n",
       "      <th>14</th>\n",
       "      <td>False</td>\n",
       "      <td>False</td>\n",
       "      <td>True</td>\n",
       "      <td>False</td>\n",
       "    </tr>\n",
       "  </tbody>\n",
       "</table>\n",
       "</div>"
      ],
      "text/plain": [
       "    Flat_No  Num. of Bed Room  Num. of family member  Owner's Profession\n",
       "0     False             False                  False               False\n",
       "1     False             False                   True               False\n",
       "2     False              True                  False               False\n",
       "3     False             False                  False               False\n",
       "4     False             False                  False               False\n",
       "5     False              True                  False               False\n",
       "6     False              True                  False               False\n",
       "7     False             False                  False               False\n",
       "8     False             False                  False               False\n",
       "9     False             False                  False               False\n",
       "10    False              True                  False               False\n",
       "11    False             False                   True               False\n",
       "12    False              True                  False               False\n",
       "13    False             False                  False               False\n",
       "14    False             False                   True               False"
      ]
     },
     "execution_count": 115,
     "metadata": {},
     "output_type": "execute_result"
    }
   ],
   "source": [
    "df.isnull()"
   ]
  },
  {
   "cell_type": "markdown",
   "metadata": {},
   "source": [
    "This time, all of the different formats were recognized as the missing data. Let's print out the number of missing values in each of the feature."
   ]
  },
  {
   "cell_type": "code",
   "execution_count": 116,
   "metadata": {},
   "outputs": [
    {
     "data": {
      "text/plain": [
       "Flat_No                  0\n",
       "Num. of Bed Room         5\n",
       "Num. of family member    3\n",
       "Owner's Profession       0\n",
       "dtype: int64"
      ]
     },
     "execution_count": 116,
     "metadata": {},
     "output_type": "execute_result"
    }
   ],
   "source": [
    "#number of missing value in each of the columns\n",
    "df.isnull().sum()"
   ]
  },
  {
   "cell_type": "markdown",
   "metadata": {},
   "source": [
    "We can also print out only the rows which contain missing values by\n",
    "\n",
    "```python\n",
    "#display the rows that contain missing value\n",
    "df[df.isnull().any(axis = 1)]\n",
    "```\n",
    "\n",
    "Now, we need to figure out how we want to handle missing values. Sometimes we simply delete the missing rows (or columns), other times we need to replace them. The following tree diagram shows the common techniques through which we can easily handle the missing data.\n",
    "\n",
    "\n",
    "<img src=\"img/Handling Missing Data.png\" alt=\"Handling Missing Data\" width=\"700\">\n",
    "\n",
    "## Deletion\n",
    "\n",
    "It is the most common way to handle the missing value. In this process, a particular row or column is removed based on the missing data. If there are (70-75)% missing data in a particular row or column than we prefer to delete those row or columns. we can do this by using a pandas method ```.dropna()```. Let's see several different way how we can apply this.\n",
    "\n",
    "```python\n",
    "\n",
    "df.dropna()                    #drop rows that contain missing data\n",
    "df.dropna(axis = 1)            #drop columns that contain missing data\n",
    "df.dropna(how = 'all')         #drop the rows if all columns of the rwo contain missing data\n",
    "df.dropna(thresh = 2)          #a row must have atleast 2 data points otherwise it will be droped\n",
    "df.dropna(subset = ['price'])  #drop the rows with respect to the missing values in specified columns\n",
    "\n",
    "```\n",
    "\n",
    "This method is advised only for the large dataset but one has to make sure that after we have deleted the data, there is no addition of bias. Removing the data may lead the loss of valuable information and thus a model can't learn properly from the data to predict the output."
   ]
  },
  {
   "cell_type": "markdown",
   "metadata": {},
   "source": [
    "## Imputation\n",
    "\n",
    "Now, Let us look at different ways of imputing the missing values.\n",
    "\n",
    "### 1. Replacing with Mean/ Median/ Mode\n",
    "This strategy is a statistical approach of handling the missing values. A better option is replacing the missing values of a particular feature by the mean value of that feature rather than deletion.For continuous/numeric features no matter how many times we add mean, because it still gets conserved. Let's see how:\n",
    "\n",
    "\n",
    ">  Let's assume a feature contains three data points 3, 7, and 8 have mean = (3 + 7 + 8) / 3 = 6\n",
    "\n",
    ">  If this feature has an infinite number of missing values, let's impute it with mean: 3, 7, 8, 6, 6, 6, 6 .... .The mean will remain 6 no matter how many times we add it!\n",
    "\n",
    "But, drawback with mean is that it is heavily influenced by the outliers. For example: 4, 7, 5, 48 has the mean 16!\n",
    "Moreover, mean is also the worst in reflecting central tendency of a normal data. The mode is best reflects the central tendency which is the most frequent value of a feature. But, it causes ambiguity for the continuous data as there might be more than one mode or even none at all if none of the values are repeated. Thus, we can impute the mode for the features that are categorical in nature.\n",
    "\n",
    "After mode, median reflects the central tendency the best and use of the median is better than the mean for the features that are continuous in nature. If the data points are arranged in order than the middle point is the median. If we see the aforementioned example, it can be observed that, unlike mean, median is not influenced by the outliers. That is: 4, 5, 7, 48 has the median 6.\n",
    "\n",
    "> Thus, for categorical feature imputing mode makes more sense and for continuous feature the median.\n",
    "\n",
    "Imputing missing value with median or mode can be perfomed by ```.fillna()``` method of pandas as follow:\n",
    "\n",
    "``` python\n",
    "# Replace by median \n",
    "median = df['Num. of Bed Room'].median()\n",
    "df['Num. of Bed Room'].fillna(median, inplace=True)\n",
    "\n",
    "# Replace by mode\n",
    "mode = df['Num. of Bed Room'].mode()\n",
    "df['Num. of Bed Room'].fillna(mode, inplace=True)\n",
    "```"
   ]
  },
  {
   "cell_type": "markdown",
   "metadata": {},
   "source": [
    "### 2. Random but Proportional Replacement (RBPR)\n",
    "\n",
    "From the above technique, it can be observed that the imputation of the missing value is carried out by a single value (either the mean or the median or the mode). But, in our current technique, we’ll replace the missing values randomly in a ratio which is proportional to the instances without missing value. And, for this we will make the use of probability. It would be better if we use the data points of \"Num. of Bed Room\" column from our demo dataset for the explanation. Let's represent it as a ordered list:"
   ]
  },
  {
   "cell_type": "code",
   "execution_count": 49,
   "metadata": {},
   "outputs": [
    {
     "data": {
      "text/plain": [
       "[1.0, 1.0, 1.0, 1.0, 2.0, 2.0, 2.0, 2.0, 3.0, 3.0, nan, nan, nan, nan, nan]"
      ]
     },
     "execution_count": 49,
     "metadata": {},
     "output_type": "execute_result"
    }
   ],
   "source": [
    "df['Num. of Bed Room'].sort_values().tolist()"
   ]
  },
  {
   "cell_type": "markdown",
   "metadata": {},
   "source": [
    "From the list, we can notice that there are sets of 4 ones, 4 twos, 2 threes, and 5 nans. Now, lets calculate the probability(P) and expected value(E) for the missing value.\n",
    "\n",
    "\n",
    "> *Probability of 1 occuring in NaNs:*\n",
    ">    $$ P = (Num. of 1s) / (Num. of data points without NaNs) $$\n",
    ">    $$ = 4 / 10 $$\n",
    ">    $$ = 2 / 5 $$\n",
    ">    $$ E = P*(total num. of NaNs) = (2/5)*5 = 2 $$\n",
    "> Similarly, the expected value of *2 occuring in NaNs* is 2 and *3 occuring in NaNs* is 1.\n",
    "\n",
    "We can see, the ratio of ones, twos, and threes occuring in NaNs is (2 : 2 : 1). Now, imputing the NaNs with the proportion of non-NaNs results in the following updated list:\n",
    "\n",
    "<center> $ [1, 1, 1, 1, 2, 2, 2, 2, 3, 3, 1, 1, 2, 2, 3] $ </center>\n",
    "\n",
    "while imputing with mean(1.8) results in:\n",
    "\n",
    "<center> $ [1, 1, 1, 1, 2, 2, 2, 2, 3, 3, 1.8, 1.8, 1.8, 1.8, 1.8] $ </center>\n",
    "\n",
    "Let's generate a box-plot for this three lists for clear observation."
   ]
  },
  {
   "cell_type": "code",
   "execution_count": 95,
   "metadata": {},
   "outputs": [
    {
     "data": {
      "text/plain": [
       "<matplotlib.axes._subplots.AxesSubplot at 0x7fb1a6038438>"
      ]
     },
     "execution_count": 95,
     "metadata": {},
     "output_type": "execute_result"
    },
    {
     "data": {
      "image/png": "[encoded data removed]",
      "text/plain": [
       "<Figure size 720x360 with 1 Axes>"
      ]
     },
     "metadata": {
      "needs_background": "light"
     },
     "output_type": "display_data"
    }
   ],
   "source": [
    "import matplotlib.pyplot as plt\n",
    "\n",
    "plt.subplots(figsize=(10,5))\n",
    "x = pd.DataFrame({\n",
    "    'Before Imputation': [1,1,1,1,2,2,2,2,3,3,np.nan, np.nan, np.nan, np.nan, np.nan],\n",
    "    'Imputed by Proportion': [1,1,1,1,2,2,2,2,3,3,1,1,2,2,3],\n",
    "    'Imputed by Mean': [1,1,1,1,2,2,2,2,3,3,1.8,1.8,1.8,1.8,1.8]\n",
    "})\n",
    "x.boxplot(patch_artist=True, fontsize=15)"
   ]
  },
  {
   "cell_type": "markdown",
   "metadata": {},
   "source": [
    "From the box-plot, the key observations are:\n",
    "* Proportional imputation has far __better data distribution__ than the mean imputation.\n",
    "* Mean imputation affects the distribution with \"3\"; originally it wasn't a outlier while proportional imputation has the original status. This shows, proportional imputation is __less biased__.\n",
    "* The chances of this method to over-fit a model is definitely lesser than imputing with mean/median/mode.\n"
   ]
  },
  {
   "cell_type": "markdown",
   "metadata": {},
   "source": [
    "### 3. Predicting the Missing Data\n",
    "\n",
    "We can predict the missing values of a particular feature with the help a machine learning algorithm. In this process, the features that doesn't contain any missing value will act as the predictors while the missing value containing feature will act as the target column. Different types of machine learning algorithm can be applied based on the nature of the data. This method may result in better accuracy, unless a missing value is expected to have a very high variance.\n",
    "\n",
    "Hopefully, you have enjoyed this post.\n",
    "\n",
    "If you have any questions about this post, please feel free to ask your questions in the comments and I will do my best to answer.\n",
    "\n",
    "#### Resources:\n",
    "1. https://towardsdatascience.com/how-to-handle-missing-data-8646b18db0d4\t\t\t\t\t\t\t\t\t\t\t\t\t\t\t\t\t\t\t\t\t\t\t\t\t\n",
    "2. https://www.datascience.com/blog/missing-data-imputation\t\t\t\t\t\t\t\t\t\t\t\t\t\t\t\t\t\t\t\t\t\t\t\t\t\n",
    "3. https://www.freecodecamp.org/news/the-penalty-of-missing-values-in-data-science-91b756f95a32/\t\t\t\t\t\t\t\t\t\t\t\t\t\t\t\t\t\t\t\t\t\t\t\t\t\n",
    "4. https://www.analyticsindiamag.com/5-ways-handle-missing-values-machine-learning-datasets/\t\t\t\t\t\t\t\t\t\t\t\t\t\t\t\t\t\t\t\t\t\t\t\t\t\n",
    "5. https://towardsdatascience.com/data-cleaning-with-python-and-pandas-detecting-missing-values-3e9c6ebcf78b\t\t\t\t\t\t\t\t\t\t\t\t\t\t\t\t\t\t\t\t\t\t\t\t\t\n",
    "6. https://machinelearningmastery.com/handle-missing-data-python/\t\t\t\t\t\t\t\t\t\t\t\t\t\t\t\t\t\t\t\t\t\t\t\t\t"
   ]
  }
 ],
 "metadata": {
  "celltoolbar": "Raw Cell Format",
  "kernelspec": {
   "display_name": "Python 3",
   "language": "python",
   "name": "python3"
  },
  "language_info": {
   "codemirror_mode": {
    "name": "ipython",
    "version": 3
   },
   "file_extension": ".py",
   "mimetype": "text/x-python",
   "name": "python",
   "nbconvert_exporter": "python",
   "pygments_lexer": "ipython3",
   "version": "3.7.1"
  }
 },
 "nbformat": 4,
 "nbformat_minor": 2
}
